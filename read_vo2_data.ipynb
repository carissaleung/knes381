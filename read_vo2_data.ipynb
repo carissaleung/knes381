{
 "cells": [
  {
   "attachments": {},
   "cell_type": "markdown",
   "metadata": {},
   "source": [
    "### Importing data in python\n",
    "One of the main issues that we need to cover in python is how to bring data into our environment to do this we will use the pandas library and we will also use the matplotlib library so we can start to plot  our data in beautiful ways..\n",
    "\n",
    "\n",
    "What to do with data in an excel file format?  simply import it with the command \n",
    "\n",
    "Almost the exact same process as opening and working with a CSV (comma seperated value file) you just substitue\n",
    "```\n",
    "df = pd.read_csv('filename.csv')\n",
    "```"
   ]
  },
  {
   "cell_type": "code",
   "execution_count": 164,
   "metadata": {},
   "outputs": [
    {
     "data": {
      "text/html": [
       "<div>\n",
       "<style scoped>\n",
       "    .dataframe tbody tr th:only-of-type {\n",
       "        vertical-align: middle;\n",
       "    }\n",
       "\n",
       "    .dataframe tbody tr th {\n",
       "        vertical-align: top;\n",
       "    }\n",
       "\n",
       "    .dataframe thead th {\n",
       "        text-align: right;\n",
       "    }\n",
       "</style>\n",
       "<table border=\"1\" class=\"dataframe\">\n",
       "  <thead>\n",
       "    <tr style=\"text-align: right;\">\n",
       "      <th></th>\n",
       "      <th>TIME</th>\n",
       "      <th>VO2</th>\n",
       "      <th>VO2/kg</th>\n",
       "      <th>METS</th>\n",
       "      <th>VCO2</th>\n",
       "      <th>VE</th>\n",
       "      <th>RER</th>\n",
       "      <th>RR</th>\n",
       "      <th>Vt</th>\n",
       "      <th>FEO2</th>\n",
       "      <th>FECO2</th>\n",
       "      <th>HR</th>\n",
       "      <th>VE/</th>\n",
       "      <th>VE/   .1</th>\n",
       "      <th>PetCO2</th>\n",
       "      <th>Power</th>\n",
       "    </tr>\n",
       "  </thead>\n",
       "  <tbody>\n",
       "    <tr>\n",
       "      <th>0</th>\n",
       "      <td></td>\n",
       "      <td>STPD</td>\n",
       "      <td>STPD</td>\n",
       "      <td></td>\n",
       "      <td>STPD</td>\n",
       "      <td>BTPS</td>\n",
       "      <td></td>\n",
       "      <td></td>\n",
       "      <td>BTPS</td>\n",
       "      <td></td>\n",
       "      <td></td>\n",
       "      <td></td>\n",
       "      <td>VO2</td>\n",
       "      <td>VCO2</td>\n",
       "      <td></td>\n",
       "      <td>NaN</td>\n",
       "    </tr>\n",
       "    <tr>\n",
       "      <th>1</th>\n",
       "      <td>min</td>\n",
       "      <td>L/min</td>\n",
       "      <td>ml/kg/m</td>\n",
       "      <td></td>\n",
       "      <td>L/min</td>\n",
       "      <td>L/min</td>\n",
       "      <td></td>\n",
       "      <td>BPM</td>\n",
       "      <td>L</td>\n",
       "      <td>%</td>\n",
       "      <td>%</td>\n",
       "      <td>bpm</td>\n",
       "      <td>BT/ST</td>\n",
       "      <td>BT/ST</td>\n",
       "      <td>mmHg</td>\n",
       "      <td>Watts</td>\n",
       "    </tr>\n",
       "    <tr>\n",
       "      <th>2</th>\n",
       "      <td>----------</td>\n",
       "      <td>NaN</td>\n",
       "      <td>NaN</td>\n",
       "      <td>NaN</td>\n",
       "      <td>NaN</td>\n",
       "      <td>NaN</td>\n",
       "      <td>NaN</td>\n",
       "      <td>NaN</td>\n",
       "      <td>NaN</td>\n",
       "      <td>NaN</td>\n",
       "      <td>NaN</td>\n",
       "      <td>NaN</td>\n",
       "      <td>NaN</td>\n",
       "      <td>NaN</td>\n",
       "      <td>NaN</td>\n",
       "      <td>NaN</td>\n",
       "    </tr>\n",
       "    <tr>\n",
       "      <th>3</th>\n",
       "      <td>0.517167</td>\n",
       "      <td>0.247651</td>\n",
       "      <td>4.552413</td>\n",
       "      <td>1.30069</td>\n",
       "      <td>0.18422</td>\n",
       "      <td>19.603882</td>\n",
       "      <td>0.743868</td>\n",
       "      <td>17.402514</td>\n",
       "      <td>1.126497</td>\n",
       "      <td>19.247952</td>\n",
       "      <td>1.36228</td>\n",
       "      <td>82</td>\n",
       "      <td>79.15921</td>\n",
       "      <td>106.415611</td>\n",
       "      <td>10.536668</td>\n",
       "      <td>50</td>\n",
       "    </tr>\n",
       "    <tr>\n",
       "      <th>4</th>\n",
       "      <td>1.052167</td>\n",
       "      <td>0.687631</td>\n",
       "      <td>12.640276</td>\n",
       "      <td>3.611507</td>\n",
       "      <td>0.524605</td>\n",
       "      <td>19.488014</td>\n",
       "      <td>0.762917</td>\n",
       "      <td>22.429905</td>\n",
       "      <td>0.868841</td>\n",
       "      <td>16.212049</td>\n",
       "      <td>3.827807</td>\n",
       "      <td>84</td>\n",
       "      <td>28.340801</td>\n",
       "      <td>37.147957</td>\n",
       "      <td>25.49148</td>\n",
       "      <td>50</td>\n",
       "    </tr>\n",
       "  </tbody>\n",
       "</table>\n",
       "</div>"
      ],
      "text/plain": [
       "        TIME     VO2      VO2/kg       METS     VCO2      VE          RER    \\\n",
       "0                STPD     STPD                  STPD      BTPS                \n",
       "1       min      L/min    ml/kg/m               L/min     L/min               \n",
       "2  ----------       NaN        NaN       NaN       NaN        NaN       NaN   \n",
       "3    0.517167  0.247651   4.552413   1.30069   0.18422  19.603882  0.743868   \n",
       "4    1.052167  0.687631  12.640276  3.611507  0.524605  19.488014  0.762917   \n",
       "\n",
       "        RR      Vt         FEO2      FECO2   HR       VE/       VE/   .1  \\\n",
       "0               BTPS                                  VO2         VCO2     \n",
       "1       BPM     L          %         %       bpm      BT/ST       BT/ST    \n",
       "2        NaN       NaN        NaN       NaN   NaN        NaN         NaN   \n",
       "3  17.402514  1.126497  19.247952   1.36228    82   79.15921  106.415611   \n",
       "4  22.429905  0.868841  16.212049  3.827807    84  28.340801   37.147957   \n",
       "\n",
       "     PetCO2   Power  \n",
       "0               NaN  \n",
       "1    mmHg     Watts  \n",
       "2        NaN    NaN  \n",
       "3  10.536668     50  \n",
       "4   25.49148     50  "
      ]
     },
     "execution_count": 164,
     "metadata": {},
     "output_type": "execute_result"
    }
   ],
   "source": [
    "import pandas as pd\n",
    "import matplotlib.pyplot as plt\n",
    "\n",
    "df_excel = pd.read_excel('VO2_excel.xlsx') #this line works\n",
    "\n",
    "# this prints out the first 5 lines of our new dataframe\n",
    "df_excel.head()"
   ]
  },
  {
   "attachments": {},
   "cell_type": "markdown",
   "metadata": {},
   "source": [
    "View what we have by using dataframe.info()"
   ]
  },
  {
   "cell_type": "code",
   "execution_count": null,
   "metadata": {},
   "outputs": [],
   "source": [
    "df_excel.info()"
   ]
  },
  {
   "attachments": {},
   "cell_type": "markdown",
   "metadata": {},
   "source": [
    "We can assign the column value of Time to the variable x like this (below)\n",
    "\n",
    "Select the value when it appears instead of typing it yourself so you get the correct spacing!"
   ]
  },
  {
   "cell_type": "code",
   "execution_count": null,
   "metadata": {},
   "outputs": [],
   "source": [
    "x1 = df_excel[\"TIME \"] # note there is an extra space in the header TIME! if you write \"TIME\" it will throw an error"
   ]
  },
  {
   "attachments": {},
   "cell_type": "markdown",
   "metadata": {},
   "source": [
    "We probably want to remove the data in the 2nd row (3) as the series of dashes --------- indicates that this is where the data starts and we don't what to have NaN (not a number) data in our datafram we could clean this up later but why import the issue to begin with\n",
    "\n",
    "To tell Pandas where the data frame should start and what to include we can use the **header**, and **skiprows** arguments in the example below I say that the header information is in the first (0) and thrid (2) lines, and that the forth line (3) should be skipped.  We should do this as currently column 0 and column 15 have different lengths"
   ]
  },
  {
   "cell_type": "code",
   "execution_count": null,
   "metadata": {},
   "outputs": [],
   "source": [
    "# note we don't need to import anything becuse we did this in the previous cell\n",
    "# we also will just overwrite the df_excel variable we previously created\n",
    "\n",
    "df_excel = pd.read_excel('VO2_excel.xlsx', header=[0,2], skiprows=[3]) #this line works it will also put the units in the header data\n",
    "\n",
    "df_excel.head() # the head command just shows us the first 5 lines..\n",
    "\n",
    "#df_excel.tail() # this shows us the last 5 lines of the data frame"
   ]
  },
  {
   "attachments": {},
   "cell_type": "markdown",
   "metadata": {},
   "source": [
    "Attempting to add value to x though does not work as the header is too complex now to read so you would assign the column number instead we can see that the x variable (column name) is a tuple and that is why we cannot assign it to a name"
   ]
  },
  {
   "cell_type": "code",
   "execution_count": null,
   "metadata": {},
   "outputs": [],
   "source": [
    "x1 = df_excel.columns[0]\n",
    "print(type(x1))\n",
    "\n",
    "print('This tuple has', len(x1), 'values')\n",
    "print(x1)"
   ]
  },
  {
   "attachments": {},
   "cell_type": "markdown",
   "metadata": {},
   "source": [
    "We can peak at the data frame that we made from the excel data by using the info() command again and wee se that all the data columns are the same size now"
   ]
  },
  {
   "cell_type": "code",
   "execution_count": null,
   "metadata": {},
   "outputs": [],
   "source": [
    "df_excel.info()\n"
   ]
  },
  {
   "attachments": {},
   "cell_type": "markdown",
   "metadata": {},
   "source": [
    "**Note** When the header names are tuples they can not be called by using the column header so lets return to a simple header format\n",
    "\n",
    "You can remove these spaces & special characters but that is more than we have time for in this class..."
   ]
  },
  {
   "cell_type": "code",
   "execution_count": 167,
   "metadata": {},
   "outputs": [
    {
     "name": "stdout",
     "output_type": "stream",
     "text": [
      "<class 'pandas.core.frame.DataFrame'>\n",
      "RangeIndex: 55 entries, 0 to 54\n",
      "Data columns (total 16 columns):\n",
      " #   Column    Non-Null Count  Dtype  \n",
      "---  ------    --------------  -----  \n",
      " 0   TIME      55 non-null     float64\n",
      " 1   VO2       55 non-null     float64\n",
      " 2   VO2/kg    55 non-null     float64\n",
      " 3   METS      55 non-null     float64\n",
      " 4   VCO2      55 non-null     float64\n",
      " 5   VE        55 non-null     float64\n",
      " 6   RER       55 non-null     float64\n",
      " 7   RR        55 non-null     float64\n",
      " 8   Vt        55 non-null     float64\n",
      " 9   FEO2      55 non-null     float64\n",
      " 10  FECO2     55 non-null     float64\n",
      " 11  HR        55 non-null     float64\n",
      " 12  VE/       55 non-null     float64\n",
      " 13  VE/   .1  55 non-null     float64\n",
      " 14  PetCO2    55 non-null     float64\n",
      " 15  Power     55 non-null     int64  \n",
      "dtypes: float64(15), int64(1)\n",
      "memory usage: 7.0 KB\n"
     ]
    }
   ],
   "source": [
    "df_excel = pd.read_excel('VO2_excel.xlsx', header=[0], skiprows=[1,2,3]) \n",
    "df_excel.info()"
   ]
  },
  {
   "attachments": {},
   "cell_type": "markdown",
   "metadata": {},
   "source": [
    "Now lets just plot the data to see what it looks like"
   ]
  },
  {
   "cell_type": "code",
   "execution_count": 168,
   "metadata": {},
   "outputs": [
    {
     "data": {
      "text/plain": [
       "<AxesSubplot:xlabel='TIME '>"
      ]
     },
     "execution_count": 168,
     "metadata": {},
     "output_type": "execute_result"
    },
    {
     "data": {
      "image/png": "[encoded data removed]",
      "text/plain": [
       "<Figure size 432x288 with 1 Axes>"
      ]
     },
     "metadata": {
      "needs_background": "light"
     },
     "output_type": "display_data"
    }
   ],
   "source": [
    "df_excel.plot(x=0, y=1) # we are calling the data column numbers here"
   ]
  },
  {
   "attachments": {},
   "cell_type": "markdown",
   "metadata": {},
   "source": [
    "You can add a second plot to this graph very easily by adding another plot...\n",
    "I am defining the variables by assigning them to the column header here, be sure to use the **tab** feature to add the column name or you will likely get the spacing in the name incorrect and it will throw and error."
   ]
  },
  {
   "cell_type": "code",
   "execution_count": null,
   "metadata": {},
   "outputs": [],
   "source": [
    "#This also works\n",
    "x = df_excel['TIME ']\n",
    "y = df_excel['VO2   ']\n",
    "y1 = df_excel['VCO2  ']\n",
    "plt.plot(x, y, c= 'r', label = '$\\dot VO_2$')\n",
    "plt.plot(x, y1, c='b', label='VE')\n",
    "plt.legend()"
   ]
  },
  {
   "attachments": {},
   "cell_type": "markdown",
   "metadata": {},
   "source": [
    "We can spruce this up a bit by putting a title on the graph and labelling our axes\n",
    ">  ***_Note_*** I added the correct subscript and dot over the $ \\dot V$ using LaTec script between \\$  $ characters"
   ]
  },
  {
   "cell_type": "code",
   "execution_count": null,
   "metadata": {},
   "outputs": [],
   "source": [
    "df_excel.plot(x =0, y =1, xlabel='Time (min)', ylabel=(r'$\\dot VO_2 (L/min)$'), label=('$\\dot VO_2$ L/min'), \n",
    "     title='Simple $\\dot VO_2$ time plot', c='r')"
   ]
  },
  {
   "attachments": {},
   "cell_type": "markdown",
   "metadata": {},
   "source": [
    "### Lets go full hog and make the plot look super nice!\n",
    "I am also going to use the max function to find VO2 max and print it on the chart\n",
    "\n",
    "As a final touch I will save the output to the file named test.png\n",
    "\n",
    "I have included the hyperlink to the matplotlib library below where you can find all the hidden features to this gem\n",
    "\n",
    " https://matplotlib.org/stable/index.html"
   ]
  },
  {
   "cell_type": "code",
   "execution_count": null,
   "metadata": {},
   "outputs": [],
   "source": [
    "x = df_excel['TIME ']\n",
    "y = df_excel['VO2   ']\n",
    "\n",
    "# https://matplotlib.org/stable/index.html\n",
    "\n",
    "\n",
    "ymax = max(y)\n",
    "xmax = x[y.argmax()]\n",
    "fig, ax = plt.subplots()\n",
    "ax.annotate('$\\dot VO_2max$ =({}) L/min'.format(round(ymax, 2)), xy=(xmax, ymax), xytext=(xmax, ymax+.25),\n",
    "            arrowprops=dict(facecolor='red'),\n",
    "            )\n",
    "\n",
    "\n",
    "ax.plot(x, y,  label=('$\\dot VO_2$ L/min') )\n",
    "# ax.plot(x, y1,  label=('$\\dot VCO_2$ L/min') )\n",
    "ax.spines[['right', 'top']].set_visible(False)\n",
    "#note all these set features could be added in one line but reading it would be difficult\n",
    "ax.set(title = ('$\\dot VO_2$'), label=('$\\dot VO_2$ L/min'))  \n",
    "ax.set(xlabel=('time'))\n",
    "ax.set(ylabel=('L/min'))\n",
    "ax.legend()\n",
    "\n",
    "fig.savefig(\"test.jpg\", dpi=300, bbox_inches = \"tight\")\n",
    "# Code below works without the fig, ax settings... line 10 but it is ugly...\n",
    "#df.plot(x =0, y =1, xlabel='Time (min)', ylabel=(r'$\\dot VO_2 (L/min)$'), label=('$\\dot VO_2$ L/min'), \n",
    "#     title='Simple $\\dot VO_2$ time plot')"
   ]
  },
  {
   "attachments": {},
   "cell_type": "markdown",
   "metadata": {},
   "source": [
    "### It should probably be pointed out here you have done all the hard work...\n",
    "If you have multiple files with the same layout, changing the file you import will generate this graph easily...\n",
    "You could even put this in a for loop and do all files in a folder in minutes...\n",
    "just change it so the figure file is saved based on the filename currently used..."
   ]
  },
  {
   "attachments": {},
   "cell_type": "markdown",
   "metadata": {},
   "source": [
    "### You can now plot three graphs and share the same x axis\n",
    "you just need to modify your code sligthly..."
   ]
  },
  {
   "cell_type": "code",
   "execution_count": null,
   "metadata": {},
   "outputs": [],
   "source": [
    "x = df_excel['TIME ']\n",
    "y = df_excel['VO2   ']\n",
    "y1 = df_excel['VE     '] #added extra values\n",
    "y2 = df_excel['VCO2  ']\n",
    "\n",
    "# https://matplotlib.org/stable/index.html\n",
    "\n",
    "# find vo2 max in y value\n",
    "ymax = max(y)\n",
    "# find position that max occurs in x column\n",
    "xmax = x[y.argmax()]\n",
    "\n",
    "\n",
    "# add arguments to subplot to plot 3 graphs in 1 box with a shared x axis\n",
    "fig, ax = plt.subplots(3, 1, sharex=True) \n",
    "# remove horizontal spaces between axes\n",
    "fig.subplots_adjust(hspace=0)\n",
    "\n",
    "#adds an indicator for VO2 max in top plot\n",
    "ax[0].annotate('$\\dot VO_2max$ =({}) L/min'.format(round(ymax, 2)), xy=(xmax, ymax), xytext=(xmax, ymax+ 1),\n",
    "            arrowprops=dict(facecolor='red'),\n",
    "            )\n",
    "\n",
    "\n",
    "ax[0].plot(x, y,  label=('$\\dot VO_2$'), c='r' )\n",
    "ax[0].spines[['right', 'top']].set_visible(False)\n",
    "#note all these set features could be added in one line but reading it would be difficult\n",
    "#ax.set(title = ('$\\dot VO_2$'), label=('$\\dot VO_2$ L/min'))  \n",
    "ax[0].set(ylabel=('L/min'))\n",
    "ax[0].legend()\n",
    "\n",
    "\n",
    "ax[1].plot(x, y1, label=('VE'), c='b')\n",
    "ax[1].spines[['top', 'right']].set_visible(False)\n",
    "ax[1].set(ylabel=('breaths/min'))\n",
    "ax[1].legend()\n",
    "\n",
    "ax[2].plot(x, y2, label=('$\\dot VCO_2$'), c = 'g')\n",
    "ax[2].spines[['top', 'right']].set_visible(False)\n",
    "ax[2].set(ylabel=('L/min'))\n",
    "ax[2].set(xlabel=('time (min)'))\n",
    "ax[2].legend()\n",
    "\n",
    "fig.savefig(\"test.jpg\", dpi=300, bbox_inches = \"tight\")\n",
    "# Code below works without the fig, ax settings... line 10 but it is ugly...\n",
    "#df.plot(x =0, y =1, xlabel='Time (min)', ylabel=(r'$\\dot VO_2 (L/min)$'), label=('$\\dot VO_2$ L/min'), \n",
    "#     title='Simple $\\dot VO_2$ time plot')"
   ]
  }
 ],
 "metadata": {
  "kernelspec": {
   "display_name": "base",
   "language": "python",
   "name": "python3"
  },
  "language_info": {
   "codemirror_mode": {
    "name": "ipython",
    "version": 3
   },
   "file_extension": ".py",
   "mimetype": "text/x-python",
   "name": "python",
   "nbconvert_exporter": "python",
   "pygments_lexer": "ipython3",
   "version": "3.9.12"
  },
  "vscode": {
   "interpreter": {
    "hash": "ad2bdc8ecc057115af97d19610ffacc2b4e99fae6737bb82f5d7fb13d2f2c186"
   }
  }
 },
 "nbformat": 4,
 "nbformat_minor": 4
}
